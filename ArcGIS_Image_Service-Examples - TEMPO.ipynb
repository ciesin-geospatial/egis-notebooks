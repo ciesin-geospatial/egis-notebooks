{
 "cells": [
  {
   "cell_type": "markdown",
   "metadata": {},
   "source": [
    "## Working with MultiDimensional Image Service with Raster Analytics\n"
   ]
  },
  {
   "cell_type": "markdown",
   "metadata": {},
   "source": [
    "#### Connect to ArcGIS Online (AGOL) or an ArcGIS Enterprise Portal to save outputs"
   ]
  },
  {
   "cell_type": "code",
   "execution_count": 1,
   "metadata": {},
   "outputs": [
    {
     "ename": "ModuleNotFoundError",
     "evalue": "No module named 'arcgis'",
     "output_type": "error",
     "traceback": [
      "\u001b[0;31m---------------------------------------------------------------------------\u001b[0m",
      "\u001b[0;31mModuleNotFoundError\u001b[0m                       Traceback (most recent call last)",
      "Cell \u001b[0;32mIn[1], line 1\u001b[0m\n\u001b[0;32m----> 1\u001b[0m \u001b[38;5;28;01mimport\u001b[39;00m \u001b[38;5;21;01marcgis\u001b[39;00m\n\u001b[1;32m      2\u001b[0m \u001b[38;5;28;01mfrom\u001b[39;00m \u001b[38;5;21;01marcgis\u001b[39;00m\u001b[38;5;21;01m.\u001b[39;00m\u001b[38;5;21;01mgis\u001b[39;00m \u001b[38;5;28;01mimport\u001b[39;00m GIS\n\u001b[1;32m      3\u001b[0m \u001b[38;5;28;01mfrom\u001b[39;00m \u001b[38;5;21;01marcgis\u001b[39;00m\u001b[38;5;21;01m.\u001b[39;00m\u001b[38;5;21;01mraster\u001b[39;00m \u001b[38;5;28;01mimport\u001b[39;00m \u001b[38;5;241m*\u001b[39m\n",
      "\u001b[0;31mModuleNotFoundError\u001b[0m: No module named 'arcgis'"
     ]
    }
   ],
   "source": [
    "import arcgis\n",
    "from arcgis.gis import GIS\n",
    "from arcgis.raster import *"
   ]
  },
  {
   "cell_type": "code",
   "execution_count": 7,
   "metadata": {},
   "outputs": [],
   "source": [
    "# Connect to your ArcGIS Enteprise or AGOL\n",
    "portal_url = 'https://gis.earthdata.nasa.gov/portal'\n",
    "gis = GIS(portal_url) #anonymous user"
   ]
  },
  {
   "cell_type": "code",
   "execution_count": 59,
   "metadata": {},
   "outputs": [
    {
     "data": {
      "text/plain": [
       "'2.2.0.1'"
      ]
     },
     "execution_count": 59,
     "metadata": {},
     "output_type": "execute_result"
    }
   ],
   "source": [
    "# Check the version of Python API\n",
    "arcgis.__version__"
   ]
  },
  {
   "cell_type": "code",
   "execution_count": 60,
   "metadata": {},
   "outputs": [
    {
     "data": {
      "text/html": [
       "<div class=\"item_container\" style=\"height: auto; overflow: hidden; border: 1px solid #cfcfcf; border-radius: 2px; background: #f6fafa; line-height: 1.21429em; padding: 10px;\">\n",
       "                    <div class=\"item_left\" style=\"width: 210px; float: left;\">\n",
       "                       <a href='https://gis.earthdata.nasa.gov/portal/home/item.html?id=73a4af425a584a61a34fcff4b9cb013e' target='_blank'>\n",
       "                        <img src='https://gis.earthdata.nasa.gov/portal/portalimages/desktopapp.png' class=\"itemThumbnail\">\n",
       "                       </a>\n",
       "                    </div>\n",
       "\n",
       "                    <div class=\"item_right\"     style=\"float: none; width: auto; overflow: hidden;\">\n",
       "                        <a href='https://gis.earthdata.nasa.gov/portal/home/item.html?id=73a4af425a584a61a34fcff4b9cb013e' target='_blank'><b>TEMPO_l3_tropo_RFT_test</b>\n",
       "                        </a>\n",
       "                        <br/>TEMPO_l3_tropo_RFT_test<img src='https://gis.earthdata.nasa.gov/portal/home/js/jsapi/esri/css/images/item_type_icons/imagery16.png' style=\"vertical-align:middle;\" width=16 height=16>Imagery Layer by ASDC_Publisher\n",
       "                        <br/>Last Modified: March 05, 2024\n",
       "                        <br/>0 comments, 47 views\n",
       "                    </div>\n",
       "                </div>\n",
       "                "
      ],
      "text/plain": [
       "<Item title:\"TEMPO_l3_tropo_RFT_test\" type:Imagery Layer owner:ASDC_Publisher>"
      ]
     },
     "metadata": {},
     "output_type": "display_data"
    }
   ],
   "source": [
    "#query Portal Content\n",
    "query=\"TEMPO_l3_tropo_RFT_test\"\n",
    "max_items=3\n",
    "portal_content = gis.content.advanced_search(query=query, max_items=max_items)\n",
    "for item in portal_content['results']:\n",
    "        display (item)"
   ]
  },
  {
   "cell_type": "code",
   "execution_count": 61,
   "metadata": {},
   "outputs": [
    {
     "data": {
      "text/html": [
       "<div class=\"item_container\" style=\"height: auto; overflow: hidden; border: 1px solid #cfcfcf; border-radius: 2px; background: #f6fafa; line-height: 1.21429em; padding: 10px;\">\n",
       "                    <div class=\"item_left\" style=\"width: 210px; float: left;\">\n",
       "                       <a href='https://gis.earthdata.nasa.gov/portal/home/item.html?id=73a4af425a584a61a34fcff4b9cb013e' target='_blank'>\n",
       "                        <img src='https://gis.earthdata.nasa.gov/portal/portalimages/desktopapp.png' class=\"itemThumbnail\">\n",
       "                       </a>\n",
       "                    </div>\n",
       "\n",
       "                    <div class=\"item_right\"     style=\"float: none; width: auto; overflow: hidden;\">\n",
       "                        <a href='https://gis.earthdata.nasa.gov/portal/home/item.html?id=73a4af425a584a61a34fcff4b9cb013e' target='_blank'><b>TEMPO_l3_tropo_RFT_test</b>\n",
       "                        </a>\n",
       "                        <br/>TEMPO_l3_tropo_RFT_test<img src='https://gis.earthdata.nasa.gov/portal/home/js/jsapi/esri/css/images/item_type_icons/imagery16.png' style=\"vertical-align:middle;\" width=16 height=16>Imagery Layer by ASDC_Publisher\n",
       "                        <br/>Last Modified: March 05, 2024\n",
       "                        <br/>0 comments, 47 views\n",
       "                    </div>\n",
       "                </div>\n",
       "                "
      ],
      "text/plain": [
       "<Item title:\"TEMPO_l3_tropo_RFT_test\" type:Imagery Layer owner:ASDC_Publisher>"
      ]
     },
     "execution_count": 61,
     "metadata": {},
     "output_type": "execute_result"
    }
   ],
   "source": [
    "tempo_l3_layer=\"73a4af425a584a61a34fcff4b9cb013e\"\n",
    "tempo_l3_layer=gis.content.get(tempo_l3_layer)\n",
    "tempo_l3_layer"
   ]
  },
  {
   "cell_type": "code",
   "execution_count": 64,
   "metadata": {
    "scrolled": true
   },
   "outputs": [
    {
     "data": {
      "application/vnd.jupyter.widget-view+json": {
       "model_id": "d305f450abe342739e7113f2faf4af20",
       "version_major": 2,
       "version_minor": 0
      },
      "text/plain": [
       "MapView(layout=Layout(height='400px', width='100%'), time_slider=True)"
      ]
     },
     "metadata": {},
     "output_type": "display_data"
    },
    {
     "data": {
      "text/html": [
       "<div class=\"map-static-img-preview-1bd7f0ad-75b7-475b-9427-505853b0827d\"><img src=\"\"></img></div>"
      ],
      "text/plain": [
       "<IPython.core.display.HTML object>"
      ]
     },
     "metadata": {},
     "output_type": "display_data"
    },
    {
     "data": {
      "text/html": [
       "<div class=\"map-html-embed-preview-1bd7f0ad-75b7-475b-9427-505853b0827d\"></div>"
      ],
      "text/plain": [
       "<IPython.core.display.HTML object>"
      ]
     },
     "metadata": {},
     "output_type": "display_data"
    }
   ],
   "source": [
    "m = gis.map()\n",
    "m.add_layer(tempo_l3_layer)\n",
    "m.time_slider = True\n",
    "#m.center = [34.09042, -118.71511]  # [latitude, longitude]\n",
    "#m.zoom = 11\n",
    "m"
   ]
  },
  {
   "cell_type": "markdown",
   "metadata": {},
   "source": [
    "# Using the Image Service API"
   ]
  },
  {
   "cell_type": "markdown",
   "metadata": {},
   "source": [
    "Resource: https://developers.arcgis.com/python/guide/using-imagery-layers/"
   ]
  },
  {
   "cell_type": "code",
   "execution_count": 8,
   "metadata": {},
   "outputs": [],
   "source": [
    "# Load data from REST end point\n",
    "service_url = \"https://gis.earthdata.nasa.gov/UAT/rest/services/TEMPO_testing/L3_No2_tropo_2day_sample/ImageServer\"\n",
    "md_raster = Raster(service_url, is_multidimensional=True, engine=None, gis=gis)"
   ]
  },
  {
   "cell_type": "code",
   "execution_count": 9,
   "metadata": {},
   "outputs": [
    {
     "name": "stdout",
     "output_type": "stream",
     "text": [
      "{'multidimensionalInfo': {'variables': [{'name': '/product/main_data_quality_flag', 'description': 'main data quality flag', 'unit': '', 'dimensions': [{'name': 'StdTime', 'field': 'StdTime', 'description': '', 'unit': '', 'interval': 37.1, 'hasRegularIntervals': False, 'intervalUnit': 'Minutes', 'extent': ['2024-02-26T12:31:45+00:00', '2024-02-28T23:31:39+00:00'], 'hasRanges': False, 'values': ['2024-02-26T12:31:45+00:00', '2024-02-26T13:11:50+00:00', '2024-02-26T13:51:55+00:00', '2024-02-26T14:51:55+00:00', '2024-02-26T15:51:55+00:00', '2024-02-26T16:51:55+00:00', '2024-02-26T17:51:55+00:00', '2024-02-26T18:51:55+00:00', '2024-02-26T19:51:55+00:00', '2024-02-26T20:51:55+00:00', '2024-02-26T21:51:55+00:00', '2024-02-26T22:51:55+00:00', '2024-02-26T23:32:00+00:00', '2024-02-27T12:31:35+00:00', '2024-02-27T13:11:40+00:00', '2024-02-27T13:51:45+00:00', '2024-02-27T14:51:45+00:00', '2024-02-27T15:51:45+00:00', '2024-02-27T16:51:45+00:00', '2024-02-27T17:51:45+00:00', '2024-02-27T22:14:39+00:00', '2024-02-27T22:51:45+00:00', '2024-02-27T23:31:50+00:00', '2024-02-28T12:31:24+00:00', '2024-02-28T13:11:29+00:00', '2024-02-28T13:51:34+00:00', '2024-02-28T14:51:34+00:00', '2024-02-28T15:51:34+00:00', '2024-02-28T16:51:34+00:00', '2024-02-28T17:51:34+00:00', '2024-02-28T18:51:34+00:00', '2024-02-28T19:51:34+00:00', '2024-02-28T20:51:34+00:00', '2024-02-28T21:51:34+00:00', '2024-02-28T22:51:34+00:00', '2024-02-28T23:31:39+00:00']}]}, {'name': '/product/vertical_column_troposphere', 'description': 'troposphere nitrogen dioxide vertical column', 'unit': 'molecules/cm^2', 'dimensions': [{'name': 'StdTime', 'field': 'StdTime', 'description': '', 'unit': '', 'interval': 37.1, 'hasRegularIntervals': False, 'intervalUnit': 'Minutes', 'extent': ['2024-02-26T12:31:45+00:00', '2024-02-28T23:31:39+00:00'], 'hasRanges': False, 'values': ['2024-02-26T12:31:45+00:00', '2024-02-26T13:11:50+00:00', '2024-02-26T13:51:55+00:00', '2024-02-26T14:51:55+00:00', '2024-02-26T15:51:55+00:00', '2024-02-26T16:51:55+00:00', '2024-02-26T17:51:55+00:00', '2024-02-26T18:51:55+00:00', '2024-02-26T19:51:55+00:00', '2024-02-26T20:51:55+00:00', '2024-02-26T21:51:55+00:00', '2024-02-26T22:51:55+00:00', '2024-02-26T23:32:00+00:00', '2024-02-27T12:31:35+00:00', '2024-02-27T13:11:40+00:00', '2024-02-27T13:51:45+00:00', '2024-02-27T14:51:45+00:00', '2024-02-27T15:51:45+00:00', '2024-02-27T16:51:45+00:00', '2024-02-27T17:51:45+00:00', '2024-02-27T22:14:39+00:00', '2024-02-27T22:51:45+00:00', '2024-02-27T23:31:50+00:00', '2024-02-28T12:31:24+00:00', '2024-02-28T13:11:29+00:00', '2024-02-28T13:51:34+00:00', '2024-02-28T14:51:34+00:00', '2024-02-28T15:51:34+00:00', '2024-02-28T16:51:34+00:00', '2024-02-28T17:51:34+00:00', '2024-02-28T18:51:34+00:00', '2024-02-28T19:51:34+00:00', '2024-02-28T20:51:34+00:00', '2024-02-28T21:51:34+00:00', '2024-02-28T22:51:34+00:00', '2024-02-28T23:31:39+00:00']}]}, {'name': '/support_data/eff_cloud_fraction', 'description': 'effective cloud fraction', 'unit': '', 'dimensions': [{'name': 'StdTime', 'field': 'StdTime', 'description': '', 'unit': '', 'interval': 37.1, 'hasRegularIntervals': False, 'intervalUnit': 'Minutes', 'extent': ['2024-02-26T12:31:45+00:00', '2024-02-28T23:31:39+00:00'], 'hasRanges': False, 'values': ['2024-02-26T12:31:45+00:00', '2024-02-26T13:11:50+00:00', '2024-02-26T13:51:55+00:00', '2024-02-26T14:51:55+00:00', '2024-02-26T15:51:55+00:00', '2024-02-26T16:51:55+00:00', '2024-02-26T17:51:55+00:00', '2024-02-26T18:51:55+00:00', '2024-02-26T19:51:55+00:00', '2024-02-26T20:51:55+00:00', '2024-02-26T21:51:55+00:00', '2024-02-26T22:51:55+00:00', '2024-02-26T23:32:00+00:00', '2024-02-27T12:31:35+00:00', '2024-02-27T13:11:40+00:00', '2024-02-27T13:51:45+00:00', '2024-02-27T14:51:45+00:00', '2024-02-27T15:51:45+00:00', '2024-02-27T16:51:45+00:00', '2024-02-27T17:51:45+00:00', '2024-02-27T22:14:39+00:00', '2024-02-27T22:51:45+00:00', '2024-02-27T23:31:50+00:00', '2024-02-28T12:31:24+00:00', '2024-02-28T13:11:29+00:00', '2024-02-28T13:51:34+00:00', '2024-02-28T14:51:34+00:00', '2024-02-28T15:51:34+00:00', '2024-02-28T16:51:34+00:00', '2024-02-28T17:51:34+00:00', '2024-02-28T18:51:34+00:00', '2024-02-28T19:51:34+00:00', '2024-02-28T20:51:34+00:00', '2024-02-28T21:51:34+00:00', '2024-02-28T22:51:34+00:00', '2024-02-28T23:31:39+00:00']}]}], 'layout': 1}}\n"
     ]
    }
   ],
   "source": [
    "#Print Image Service Multidimensional Info\n",
    "print (md_raster.multidimensional_info)"
   ]
  },
  {
   "cell_type": "code",
   "execution_count": 10,
   "metadata": {},
   "outputs": [
    {
     "name": "stdout",
     "output_type": "stream",
     "text": [
      "Dataset extent: {\n",
      "  \"xmin\": -18701675.0648,\n",
      "  \"ymin\": 1572616.1891056262,\n",
      "  \"xmax\": -1447154.683753077,\n",
      "  \"ymax\": 12123477.103399998,\n",
      "  \"spatialReference\": {\n",
      "    \"wkid\": 102100,\n",
      "    \"latestWkid\": 3857\n",
      "  }\n",
      "}\n",
      "Variable names: ['/product/main_data_quality_flag', '/product/vertical_column_troposphere', '/support_data/eff_cloud_fraction']\n"
     ]
    }
   ],
   "source": [
    "# Print basic information about the multidimensional dataset\n",
    "print(f\"Dataset extent: {md_raster.extent}\")\n",
    "print(f\"Variable names: {md_raster.variable_names}\")\n",
    "#print(f\"Time extent: {md_raster.time_extent}\")"
   ]
  },
  {
   "cell_type": "code",
   "execution_count": 11,
   "metadata": {},
   "outputs": [
    {
     "name": "stdout",
     "output_type": "stream",
     "text": [
      "TEMPO_L3_NO2_Tropo_RFT\n",
      "None\n",
      "/product/main_data_quality_flag\n",
      "/product/vertical_column_troposphere\n",
      "/support_data/eff_cloud_fraction\n"
     ]
    }
   ],
   "source": [
    "# Check your Raster function templates\n",
    "md_imagery = ImageryLayer(service_url, gis=gis)\n",
    "\n",
    "for fn in md_imagery.properties.rasterFunctionInfos:\n",
    "    print(fn['name'])"
   ]
  },
  {
   "cell_type": "code",
   "execution_count": 13,
   "metadata": {},
   "outputs": [
    {
     "ename": "Exception",
     "evalue": "Invalid or missing input parameters.\nUnable to instantiate class for xml schema type: \n(Error Code: 400)",
     "output_type": "error",
     "traceback": [
      "\u001b[1;31m---------------------------------------------------------------------------\u001b[0m",
      "\u001b[1;31mException\u001b[0m                                 Traceback (most recent call last)",
      "\u001b[1;32m~\\AppData\\Local\\Temp\\1\\ipykernel_1064\\1110655748.py\u001b[0m in \u001b[0;36m<cell line: 15>\u001b[1;34m()\u001b[0m\n\u001b[0;32m     13\u001b[0m \u001b[1;33m\u001b[0m\u001b[0m\n\u001b[0;32m     14\u001b[0m \u001b[1;31m#Temporal Profile\u001b[0m\u001b[1;33m\u001b[0m\u001b[1;33m\u001b[0m\u001b[0m\n\u001b[1;32m---> 15\u001b[1;33m \u001b[0mmd_imagery\u001b[0m\u001b[1;33m.\u001b[0m\u001b[0mtemporal_profile\u001b[0m\u001b[1;33m(\u001b[0m\u001b[0mpoints\u001b[0m \u001b[1;33m=\u001b[0m \u001b[1;33m[\u001b[0m\u001b[0mpoint1\u001b[0m\u001b[1;33m,\u001b[0m\u001b[0mpoint2\u001b[0m\u001b[1;33m]\u001b[0m\u001b[1;33m,\u001b[0m \u001b[0mtime_field\u001b[0m \u001b[1;33m=\u001b[0m \u001b[1;34m\"StdTime\"\u001b[0m\u001b[1;33m,\u001b[0m \u001b[0mvariables\u001b[0m \u001b[1;33m=\u001b[0m \u001b[0mmyvars\u001b[0m\u001b[1;33m,\u001b[0m  \u001b[0mtrend_type\u001b[0m\u001b[1;33m=\u001b[0m\u001b[0mtrend_type\u001b[0m\u001b[1;33m)\u001b[0m\u001b[1;33m\u001b[0m\u001b[1;33m\u001b[0m\u001b[0m\n\u001b[0m",
      "\u001b[1;32m~\\AppData\\Local\\ESRI\\conda\\envs\\arcgispro-py3-clone\\lib\\site-packages\\arcgis\\raster\\_layer.py\u001b[0m in \u001b[0;36mtemporal_profile\u001b[1;34m(self, points, time_field, variables, bands, time_extent, dimension, dimension_values, show_values, trend_type, trend_order, plot_properties)\u001b[0m\n\u001b[0;32m   6632\u001b[0m         \u001b[1;32mfrom\u001b[0m \u001b[0marcgis\u001b[0m\u001b[1;33m.\u001b[0m\u001b[0mraster\u001b[0m\u001b[1;33m.\u001b[0m\u001b[0m_charts\u001b[0m \u001b[1;32mimport\u001b[0m \u001b[0mtemporal_profile\u001b[0m\u001b[1;33m\u001b[0m\u001b[1;33m\u001b[0m\u001b[0m\n\u001b[0;32m   6633\u001b[0m \u001b[1;33m\u001b[0m\u001b[0m\n\u001b[1;32m-> 6634\u001b[1;33m         return temporal_profile(\n\u001b[0m\u001b[0;32m   6635\u001b[0m             \u001b[0mself\u001b[0m\u001b[1;33m,\u001b[0m\u001b[1;33m\u001b[0m\u001b[1;33m\u001b[0m\u001b[0m\n\u001b[0;32m   6636\u001b[0m             \u001b[0mpoints\u001b[0m\u001b[1;33m=\u001b[0m\u001b[0mpoints\u001b[0m\u001b[1;33m,\u001b[0m\u001b[1;33m\u001b[0m\u001b[1;33m\u001b[0m\u001b[0m\n",
      "\u001b[1;32m~\\AppData\\Local\\ESRI\\conda\\envs\\arcgispro-py3-clone\\lib\\site-packages\\arcgis\\raster\\_charts.py\u001b[0m in \u001b[0;36mtemporal_profile\u001b[1;34m(raster, points, time_field, variables, bands, time_extent, dimension, dimension_values, show_values, trend_type, trend_order, plot_properties)\u001b[0m\n\u001b[0;32m    241\u001b[0m                         \u001b[0mmd_def\u001b[0m\u001b[1;33m[\u001b[0m\u001b[1;34m\"variableName\"\u001b[0m\u001b[1;33m]\u001b[0m \u001b[1;33m=\u001b[0m \u001b[0mvariable\u001b[0m\u001b[1;33m\u001b[0m\u001b[1;33m\u001b[0m\u001b[0m\n\u001b[0;32m    242\u001b[0m \u001b[1;33m\u001b[0m\u001b[0m\n\u001b[1;32m--> 243\u001b[1;33m                     res = raster.get_samples(\n\u001b[0m\u001b[0;32m    244\u001b[0m                         \u001b[0mgeometry\u001b[0m\u001b[1;33m=\u001b[0m\u001b[0mpoint\u001b[0m\u001b[1;33m,\u001b[0m\u001b[1;33m\u001b[0m\u001b[1;33m\u001b[0m\u001b[0m\n\u001b[0;32m    245\u001b[0m                         \u001b[0mreturn_first_value_only\u001b[0m\u001b[1;33m=\u001b[0m\u001b[1;32mFalse\u001b[0m\u001b[1;33m,\u001b[0m\u001b[1;33m\u001b[0m\u001b[1;33m\u001b[0m\u001b[0m\n",
      "\u001b[1;32m~\\AppData\\Local\\ESRI\\conda\\envs\\arcgispro-py3-clone\\lib\\site-packages\\arcgis\\raster\\_layer.py\u001b[0m in \u001b[0;36mget_samples\u001b[1;34m(self, geometry, geometry_type, sample_distance, sample_count, mosaic_rule, pixel_size, return_first_value_only, interpolation, out_fields, slice_id, time)\u001b[0m\n\u001b[0;32m   4203\u001b[0m             \u001b[0mparams\u001b[0m\u001b[1;33m[\u001b[0m\u001b[1;34m\"Raster\"\u001b[0m\u001b[1;33m]\u001b[0m \u001b[1;33m=\u001b[0m \u001b[0mself\u001b[0m\u001b[1;33m.\u001b[0m\u001b[0m_uri\u001b[0m\u001b[1;33m\u001b[0m\u001b[1;33m\u001b[0m\u001b[0m\n\u001b[0;32m   4204\u001b[0m \u001b[1;33m\u001b[0m\u001b[0m\n\u001b[1;32m-> 4205\u001b[1;33m         sample_data = self._con.post(\n\u001b[0m\u001b[0;32m   4206\u001b[0m             \u001b[0mpath\u001b[0m\u001b[1;33m=\u001b[0m\u001b[0murl\u001b[0m\u001b[1;33m,\u001b[0m \u001b[0mpostdata\u001b[0m\u001b[1;33m=\u001b[0m\u001b[0mparams\u001b[0m\u001b[1;33m,\u001b[0m \u001b[0mtoken\u001b[0m\u001b[1;33m=\u001b[0m\u001b[0mself\u001b[0m\u001b[1;33m.\u001b[0m\u001b[0m_token\u001b[0m\u001b[1;33m,\u001b[0m \u001b[0mtimeout\u001b[0m\u001b[1;33m=\u001b[0m\u001b[1;32mNone\u001b[0m\u001b[1;33m\u001b[0m\u001b[1;33m\u001b[0m\u001b[0m\n\u001b[0;32m   4207\u001b[0m         )[\"samples\"]\n",
      "\u001b[1;32m~\\AppData\\Local\\ESRI\\conda\\envs\\arcgispro-py3-clone\\lib\\site-packages\\arcgis\\gis\\_impl\\_con\\_connection.py\u001b[0m in \u001b[0;36mpost\u001b[1;34m(self, path, params, files, **kwargs)\u001b[0m\n\u001b[0;32m   1522\u001b[0m         \u001b[1;32mif\u001b[0m \u001b[0mreturn_raw_response\u001b[0m\u001b[1;33m:\u001b[0m\u001b[1;33m\u001b[0m\u001b[1;33m\u001b[0m\u001b[0m\n\u001b[0;32m   1523\u001b[0m             \u001b[1;32mreturn\u001b[0m \u001b[0mresp\u001b[0m\u001b[1;33m\u001b[0m\u001b[1;33m\u001b[0m\u001b[0m\n\u001b[1;32m-> 1524\u001b[1;33m         return self._handle_response(\n\u001b[0m\u001b[0;32m   1525\u001b[0m             \u001b[0mresp\u001b[0m\u001b[1;33m=\u001b[0m\u001b[0mresp\u001b[0m\u001b[1;33m,\u001b[0m\u001b[1;33m\u001b[0m\u001b[1;33m\u001b[0m\u001b[0m\n\u001b[0;32m   1526\u001b[0m             \u001b[0mout_path\u001b[0m\u001b[1;33m=\u001b[0m\u001b[0mout_path\u001b[0m\u001b[1;33m,\u001b[0m\u001b[1;33m\u001b[0m\u001b[1;33m\u001b[0m\u001b[0m\n",
      "\u001b[1;32m~\\AppData\\Local\\ESRI\\conda\\envs\\arcgispro-py3-clone\\lib\\site-packages\\arcgis\\gis\\_impl\\_con\\_connection.py\u001b[0m in \u001b[0;36m_handle_response\u001b[1;34m(self, resp, file_name, out_path, try_json, force_bytes, ignore_error_key)\u001b[0m\n\u001b[0;32m    998\u001b[0m                     \u001b[1;32mreturn\u001b[0m \u001b[0mdata\u001b[0m\u001b[1;33m\u001b[0m\u001b[1;33m\u001b[0m\u001b[0m\n\u001b[0;32m    999\u001b[0m                 \u001b[0merrorcode\u001b[0m \u001b[1;33m=\u001b[0m \u001b[0mdata\u001b[0m\u001b[1;33m[\u001b[0m\u001b[1;34m\"error\"\u001b[0m\u001b[1;33m]\u001b[0m\u001b[1;33m[\u001b[0m\u001b[1;34m\"code\"\u001b[0m\u001b[1;33m]\u001b[0m \u001b[1;32mif\u001b[0m \u001b[1;34m\"code\"\u001b[0m \u001b[1;32min\u001b[0m \u001b[0mdata\u001b[0m\u001b[1;33m[\u001b[0m\u001b[1;34m\"error\"\u001b[0m\u001b[1;33m]\u001b[0m \u001b[1;32melse\u001b[0m \u001b[1;36m0\u001b[0m\u001b[1;33m\u001b[0m\u001b[1;33m\u001b[0m\u001b[0m\n\u001b[1;32m-> 1000\u001b[1;33m                 \u001b[0mself\u001b[0m\u001b[1;33m.\u001b[0m\u001b[0m_handle_json_error\u001b[0m\u001b[1;33m(\u001b[0m\u001b[0mdata\u001b[0m\u001b[1;33m[\u001b[0m\u001b[1;34m\"error\"\u001b[0m\u001b[1;33m]\u001b[0m\u001b[1;33m,\u001b[0m \u001b[0merrorcode\u001b[0m\u001b[1;33m)\u001b[0m\u001b[1;33m\u001b[0m\u001b[1;33m\u001b[0m\u001b[0m\n\u001b[0m\u001b[0;32m   1001\u001b[0m             \u001b[1;32mreturn\u001b[0m \u001b[0mdata\u001b[0m\u001b[1;33m\u001b[0m\u001b[1;33m\u001b[0m\u001b[0m\n\u001b[0;32m   1002\u001b[0m         \u001b[1;32melse\u001b[0m\u001b[1;33m:\u001b[0m\u001b[1;33m\u001b[0m\u001b[1;33m\u001b[0m\u001b[0m\n",
      "\u001b[1;32m~\\AppData\\Local\\ESRI\\conda\\envs\\arcgispro-py3-clone\\lib\\site-packages\\arcgis\\gis\\_impl\\_con\\_connection.py\u001b[0m in \u001b[0;36m_handle_json_error\u001b[1;34m(self, error, errorcode)\u001b[0m\n\u001b[0;32m   1021\u001b[0m \u001b[1;33m\u001b[0m\u001b[0m\n\u001b[0;32m   1022\u001b[0m         \u001b[0merrormessage\u001b[0m \u001b[1;33m=\u001b[0m \u001b[0merrormessage\u001b[0m \u001b[1;33m+\u001b[0m \u001b[1;34m\"\\n(Error Code: \"\u001b[0m \u001b[1;33m+\u001b[0m \u001b[0mstr\u001b[0m\u001b[1;33m(\u001b[0m\u001b[0merrorcode\u001b[0m\u001b[1;33m)\u001b[0m \u001b[1;33m+\u001b[0m \u001b[1;34m\")\"\u001b[0m\u001b[1;33m\u001b[0m\u001b[1;33m\u001b[0m\u001b[0m\n\u001b[1;32m-> 1023\u001b[1;33m         \u001b[1;32mraise\u001b[0m \u001b[0mException\u001b[0m\u001b[1;33m(\u001b[0m\u001b[0merrormessage\u001b[0m\u001b[1;33m)\u001b[0m\u001b[1;33m\u001b[0m\u001b[1;33m\u001b[0m\u001b[0m\n\u001b[0m\u001b[0;32m   1024\u001b[0m \u001b[1;33m\u001b[0m\u001b[0m\n\u001b[0;32m   1025\u001b[0m     def post_multipart(\n",
      "\u001b[1;31mException\u001b[0m: Invalid or missing input parameters.\nUnable to instantiate class for xml schema type: \n(Error Code: 400)"
     ]
    }
   ],
   "source": [
    "#Generate Temporal Profile graph\n",
    "from arcgis.geometry import *\n",
    "\n",
    "#Geometry\n",
    "point1 = Point({\"x\" : 25.773, \"y\" : -80.216, \"spatialReference\" : {\"wkid\" : 3857}})\n",
    "point2 = Point({\"x\" : 0, \"y\" : 0, \"spatialReference\" : {\"wkid\" : 3857}})\n",
    "\n",
    "#Trend Type\n",
    "trend_type =\"linear\" #linear\n",
    "\n",
    "#Variables\n",
    "myvars= [r\"/product/vertical_column_troposphere\"]\n",
    "\n",
    "#Temporal Profile\n",
    "md_imagery.temporal_profile(points = [point1,point2], time_field = \"StdTime\", variables = myvars,  trend_type=trend_type)"
   ]
  },
  {
   "cell_type": "code",
   "execution_count": null,
   "metadata": {},
   "outputs": [],
   "source": []
  },
  {
   "cell_type": "markdown",
   "metadata": {},
   "source": [
    "# Using Raster Functions on Imagery Layer"
   ]
  },
  {
   "cell_type": "markdown",
   "metadata": {},
   "source": [
    "Resource: https://developers.arcgis.com/python/api-reference/arcgis.raster.functions.html#clip"
   ]
  },
  {
   "cell_type": "markdown",
   "metadata": {},
   "source": [
    "## Set extent, clip and display ouput in map with basemap\n"
   ]
  },
  {
   "cell_type": "code",
   "execution_count": 15,
   "metadata": {
    "scrolled": true
   },
   "outputs": [
    {
     "data": {
      "text/html": [
       "<div class=\"item_container\" style=\"height: auto; overflow: hidden; border: 1px solid #cfcfcf; border-radius: 2px; background: #f6fafa; line-height: 1.21429em; padding: 10px;\">\n",
       "                    <div class=\"item_left\" style=\"width: 210px; float: left;\">\n",
       "                       <a href='https://www.arcgis.com//home/item.html?id=57c1ade4fa7c4e2384e6a23f2b3bd254' target='_blank'>\n",
       "                        <img src='data:image/png;base64,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' width='200' height='133' class=\"itemThumbnail\">\n",
       "                       </a>\n",
       "                    </div>\n",
       "\n",
       "                    <div class=\"item_right\"     style=\"float: none; width: auto; overflow: hidden;\">\n",
       "                        <a href='https://www.arcgis.com//home/item.html?id=57c1ade4fa7c4e2384e6a23f2b3bd254' target='_blank'><b>World Continents</b>\n",
       "                        </a>\n",
       "                        <br/>World Continents provides a basemap layer of the continents for the world.<img src='https://www.arcgis.com//home/js/jsapi/esri/css/images/item_type_icons/featureshosted16.png' style=\"vertical-align:middle;\" width=16 height=16>Feature Layer Collection by esri_dm\n",
       "                        <br/>Last Modified: January 02, 2024\n",
       "                        <br/>0 comments, 828,133 views\n",
       "                    </div>\n",
       "                </div>\n",
       "                "
      ],
      "text/plain": [
       "<Item title:\"World Continents\" type:Feature Layer Collection owner:esri_dm>"
      ]
     },
     "execution_count": 15,
     "metadata": {},
     "output_type": "execute_result"
    }
   ],
   "source": [
    "# Access the World contient item from the Living Atlas to use it as a boundary extent.\n",
    "# Title: World Continents | Type: Feature Service | Owner: esri_livingatlas\n",
    "\n",
    "gis_agol = GIS('home') #AGOL anonymous user\n",
    "item = gis_agol.content.get(\"57c1ade4fa7c4e2384e6a23f2b3bd254\")\n",
    "item"
   ]
  },
  {
   "cell_type": "code",
   "execution_count": 16,
   "metadata": {},
   "outputs": [
    {
     "data": {
      "text/plain": [
       "{'xmin': 111.547031198,\n",
       " 'ymin': -48.64693157,\n",
       " 'xmax': 157.421031198,\n",
       " 'ymax': -2.77293157}"
      ]
     },
     "execution_count": 16,
     "metadata": {},
     "output_type": "execute_result"
    }
   ],
   "source": [
    "data = ImageryLayer(service_url, gis=gis)\n",
    "\n",
    "#Now get the extent for the area you would like to select. In this case, I selected Australia\n",
    "from arcgis.geocoding import geocode\n",
    "\n",
    "# Use geocoding to get the location of the study area in the spatial reference of the input data for the analysis.\n",
    "study_area_location = geocode(address='australia', out_sr=data.extent['spatialReference'])\n",
    "\n",
    "# Get the geographic extent of the study area.\n",
    "# This extent will be used for displaying the input data and output results.\n",
    "study_area_extent = study_area_location[0]['extent']\n",
    "study_area_extent"
   ]
  },
  {
   "cell_type": "markdown",
   "metadata": {},
   "source": [
    "## Clip to a spatial extent"
   ]
  },
  {
   "cell_type": "code",
   "execution_count": 17,
   "metadata": {},
   "outputs": [
    {
     "data": {
      "application/vnd.jupyter.widget-view+json": {
       "model_id": "ab943fed222247b48b99a5be3d64fb65",
       "version_major": 2,
       "version_minor": 0
      },
      "text/plain": [
       "MapView(layout=Layout(height='400px', width='100%'), time_slider=True)"
      ]
     },
     "metadata": {},
     "output_type": "display_data"
    },
    {
     "data": {
      "text/html": [
       "<div class=\"map-static-img-preview-61e64e30-cb7a-4fbf-ab0b-4da9a149c73e\"><img src=\"\"></img></div>"
      ],
      "text/plain": [
       "<IPython.core.display.HTML object>"
      ]
     },
     "metadata": {},
     "output_type": "display_data"
    },
    {
     "data": {
      "text/html": [
       "<div class=\"map-html-embed-preview-61e64e30-cb7a-4fbf-ab0b-4da9a149c73e\"></div>"
      ],
      "text/plain": [
       "<IPython.core.display.HTML object>"
      ]
     },
     "metadata": {},
     "output_type": "display_data"
    }
   ],
   "source": [
    "from arcgis.raster.functions import clip #Import clip function\n",
    "\n",
    "# Select Australia:\n",
    "country_lyr = item.layers[0]\n",
    "study_area_query = country_lyr.query(\"CONTINENT='australia'\", return_geometry=True)\n",
    "\n",
    "# Get the geometry of the Australia feature.\n",
    "# We will use this geometry to extract the input data for the study area.\n",
    "study_area_geom= study_area_query.features[0].geometry\n",
    "study_area_geom['spatialReference'] = study_area_query.spatial_reference\n",
    "\n",
    "#study_area_geom\n",
    "\n",
    "# Set your extend\n",
    "data.extent = study_area_extent\n",
    "\n",
    "#draw output on map\n",
    "Clipped_study_area = clip(raster=data, geometry=study_area_geom)\n",
    "map = gis.map(\"Australia\")\n",
    "map.time_slider = True\n",
    "map.add_layer(Clipped_study_area)\n",
    "map"
   ]
  },
  {
   "cell_type": "code",
   "execution_count": null,
   "metadata": {},
   "outputs": [],
   "source": []
  },
  {
   "cell_type": "markdown",
   "metadata": {},
   "source": [
    "## Export subsetted file to a Tiff File"
   ]
  },
  {
   "cell_type": "code",
   "execution_count": null,
   "metadata": {},
   "outputs": [],
   "source": [
    "#Export Image\n",
    "#ADD FILTER FOR SINGLE RASTER\n",
    "imagery_layer.export_image(size=[1400, 600],\n",
    "                           export_format=\"tiff\",\n",
    "                           f=\"image\",\n",
    "                           save_folder=r\"/path/to/save_folder\",\n",
    "                           save_file=\"my_raster.tif\")"
   ]
  },
  {
   "cell_type": "markdown",
   "metadata": {},
   "source": [
    "# Using analytics module -  Subset Multidimensional Raster Function"
   ]
  },
  {
   "cell_type": "markdown",
   "metadata": {},
   "source": [
    "Resource: https://developers.arcgis.com/python/api-reference/arcgis.raster.analytics.html#subset-multidimensional-raster"
   ]
  },
  {
   "cell_type": "code",
   "execution_count": null,
   "metadata": {},
   "outputs": [],
   "source": [
    "# This creates a new multidimensional image service with variables cceiling and ccover for StdTime  dimensions\n",
    "# values - 2018-12-31T06:00:00 and  2018-12-31T11:00:00\n",
    "from arcgis.raster.analytics import subset_multidimensional_raster\n",
    "subset_output = subset_multidimensional_raster(input_multidimensional_raster=Clipped_study_area, \n",
    "                                               variables=[\"T2M\"],\n",
    "                                               dimension_definition='BY_VALUE',\n",
    "                                               dimension_values=[{\"dimension\":\"StdTime\", \"value\":\"2018-12-31T06:00:00\"},\n",
    "                                                                 {\"dimension\":\"StdTime\", \"value\":\"2018-12-31T11:00:00\"}],\n",
    "                                               output_name=\"time_subset_T2M_aus\", \n",
    "                                               gis=gis)"
   ]
  },
  {
   "cell_type": "code",
   "execution_count": null,
   "metadata": {},
   "outputs": [],
   "source": [
    "lyr = subset_output.layers[0]"
   ]
  },
  {
   "cell_type": "code",
   "execution_count": null,
   "metadata": {},
   "outputs": [],
   "source": [
    "lyr.extent = study_area_extent"
   ]
  },
  {
   "cell_type": "code",
   "execution_count": null,
   "metadata": {},
   "outputs": [],
   "source": [
    "lyr"
   ]
  },
  {
   "cell_type": "code",
   "execution_count": null,
   "metadata": {},
   "outputs": [],
   "source": [
    "savedimg = lyr2.export_image(f='image', export_format='tiff', save_folder='.', save_file='australia_subset.tif')"
   ]
  },
  {
   "cell_type": "code",
   "execution_count": null,
   "metadata": {},
   "outputs": [],
   "source": [
    "# Check your Raster function templates\n",
    "\n",
    "for fn in data.properties.rasterFunctionInfos:\n",
    "    print(fn['name'])"
   ]
  },
  {
   "cell_type": "code",
   "execution_count": null,
   "metadata": {},
   "outputs": [],
   "source": [
    "# Select the variable you would like from RFT for vizualization\n",
    "from arcgis.raster.functions import apply\n",
    "apply(data,\"all_sfc_sw_diff\")\n",
    "\n",
    "#apply(data,\"Clear-Sky Surface Short Wave Diffuse Flux\")"
   ]
  },
  {
   "cell_type": "code",
   "execution_count": null,
   "metadata": {},
   "outputs": [],
   "source": [
    "#create histogram of area in service\n",
    "ida = {\n",
    "        \"spatialReference\": {\"wkid\": 4326},\n",
    "        \"xmax\": -81,\n",
    "        \"xmin\": -91,\n",
    "        \"ymax\": 30,\n",
    "        \"ymin\": 23\n",
    "      }\n",
    "\n",
    "#aoi_geometry = Geometry(aoi)\n",
    "\n",
    "comp_stats_hist_01 = data.compute_stats_and_histograms(geometry=ida,\n",
    "                                                          rendering_rule={\"rasterFunction\":None},\n",
    "                                                          time=\"1630211400000\")\n",
    "print(comp_stats_hist_01)\n"
   ]
  },
  {
   "cell_type": "code",
   "execution_count": null,
   "metadata": {},
   "outputs": [],
   "source": [
    "."
   ]
  }
 ],
 "metadata": {
  "esriNotebookRuntime": {
   "notebookRuntimeName": "ArcGIS Notebook Python 3 Standard",
   "notebookRuntimeVersion": "3.0"
  },
  "kernelspec": {
   "display_name": "Python 3 (ipykernel)",
   "language": "python",
   "name": "python3"
  },
  "language_info": {
   "codemirror_mode": {
    "name": "ipython",
    "version": 3
   },
   "file_extension": ".py",
   "mimetype": "text/x-python",
   "name": "python",
   "nbconvert_exporter": "python",
   "pygments_lexer": "ipython3",
   "version": "3.12.4"
  }
 },
 "nbformat": 4,
 "nbformat_minor": 2
}
