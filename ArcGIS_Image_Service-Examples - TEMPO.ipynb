{
 "cells": [
  {
   "cell_type": "markdown",
   "metadata": {},
   "source": [
    "## Working with MultiDimensional Image Service with Raster Analytics\n"
   ]
  },
  {
   "cell_type": "markdown",
   "metadata": {},
   "source": [
    "#### Connect to ArcGIS Online (AGOL) or an ArcGIS Enterprise Portal to save outputs"
   ]
  },
  {
   "cell_type": "code",
   "execution_count": 1,
   "metadata": {},
   "outputs": [],
   "source": [
    "import arcgis\n",
    "from arcgis.gis import GIS\n",
    "from arcgis.raster import *"
   ]
  },
  {
   "cell_type": "code",
   "execution_count": 2,
   "metadata": {},
   "outputs": [],
   "source": [
    "# Connect to your ArcGIS Enteprise or AGOL\n",
    "portal_url = 'https://gis.earthdata.nasa.gov/portal'\n",
    "gis = GIS(portal_url) #anonymous user"
   ]
  },
  {
   "cell_type": "code",
   "execution_count": 3,
   "metadata": {},
   "outputs": [
    {
     "data": {
      "text/plain": [
       "'2.3.0'"
      ]
     },
     "execution_count": 3,
     "metadata": {},
     "output_type": "execute_result"
    }
   ],
   "source": [
    "# Check the version of Python API\n",
    "arcgis.__version__"
   ]
  },
  {
   "cell_type": "code",
   "execution_count": 26,
   "metadata": {},
   "outputs": [
    {
     "data": {
      "text/plain": [
       "[<Item title:\"GPW Version 4 Population Count (Adjusted to UN Country Totals)\" type:Imagery Layer owner:NASA_Earthdata>,\n",
       " <Item title:\"GPW Version 4 Population Density (Adjusted to UN Country Totals)\" type:Imagery Layer owner:NASA_Earthdata>,\n",
       " <Item title:\"GPW  Version 4 Basic Demographic Characteristics (Adjusted to UN Country Totals)\" type:Imagery Layer owner:NASA_Earthdata>]"
      ]
     },
     "execution_count": 26,
     "metadata": {},
     "output_type": "execute_result"
    }
   ],
   "source": [
    "#query Portal Content by title and layer type as imagery\n",
    "search_results = gis.content.search(query=\"title: 'GPW'\", item_type=\"Imagery Layer\")\n",
    "search_results"
   ]
  },
  {
   "cell_type": "code",
   "execution_count": 27,
   "metadata": {},
   "outputs": [
    {
     "data": {
      "text/plain": [
       "'d7c9286af04d4cfb8ce7b0b4615e232c'"
      ]
     },
     "execution_count": 27,
     "metadata": {},
     "output_type": "execute_result"
    }
   ],
   "source": [
    "#get search_results item id\n",
    "item = search_results[0]\n",
    "item_id = item.id\n",
    "item_id"
   ]
  },
  {
   "cell_type": "code",
   "execution_count": 28,
   "metadata": {},
   "outputs": [],
   "source": [
    "item = gis.content.get(item_id)"
   ]
  },
  {
   "cell_type": "code",
   "execution_count": 29,
   "metadata": {
    "scrolled": true
   },
   "outputs": [
    {
     "data": {
      "application/vnd.jupyter.widget-view+json": {
       "model_id": "8a195a1edae943c89680117f3a28213f",
       "version_major": 2,
       "version_minor": 0
      },
      "text/plain": [
       "MapView(layout=Layout(height='400px', width='100%'), time_slider=True)"
      ]
     },
     "metadata": {},
     "output_type": "display_data"
    },
    {
     "data": {
      "text/html": [
       "<div class=\"map-static-img-preview-6925bc93-cb94-4f5d-bd20-68aa7418c4b9\"><img src=\"\"></img></div>"
      ],
      "text/plain": [
       "<IPython.core.display.HTML object>"
      ]
     },
     "metadata": {},
     "output_type": "display_data"
    },
    {
     "data": {
      "text/html": [
       "<div class=\"map-html-embed-preview-6925bc93-cb94-4f5d-bd20-68aa7418c4b9\"></div>"
      ],
      "text/plain": [
       "<IPython.core.display.HTML object>"
      ]
     },
     "metadata": {},
     "output_type": "display_data"
    }
   ],
   "source": [
    "m = gis.map()\n",
    "m.add_layer(item)\n",
    "m.time_slider = True\n",
    "#m.center = [34.09042, -118.71511]  # [latitude, longitude]\n",
    "#m.zoom = 11\n",
    "m"
   ]
  },
  {
   "cell_type": "markdown",
   "metadata": {},
   "source": [
    "# Using the Image Service API"
   ]
  },
  {
   "cell_type": "markdown",
   "metadata": {},
   "source": [
    "Resource: https://developers.arcgis.com/python/guide/using-imagery-layers/"
   ]
  },
  {
   "cell_type": "code",
   "execution_count": 8,
   "metadata": {},
   "outputs": [],
   "source": [
    "# Load data from REST end point\n",
    "service_url = \"https://gis.earthdata.nasa.gov/UAT/rest/services/TEMPO_testing/L3_No2_tropo_2day_sample/ImageServer\"\n",
    "md_raster = Raster(service_url, is_multidimensional=True, engine=None, gis=gis)"
   ]
  },
  {
   "cell_type": "code",
   "execution_count": null,
   "metadata": {},
   "outputs": [],
   "source": [
    "#Print Image Service Multidimensional Info\n",
    "print (md_raster.multidimensional_info)"
   ]
  },
  {
   "cell_type": "code",
   "execution_count": null,
   "metadata": {},
   "outputs": [],
   "source": [
    "# Print basic information about the multidimensional dataset\n",
    "print(f\"Dataset extent: {md_raster.extent}\")\n",
    "print(f\"Variable names: {md_raster.variable_names}\")\n",
    "#print(f\"Time extent: {md_raster.time_extent}\")"
   ]
  },
  {
   "cell_type": "code",
   "execution_count": null,
   "metadata": {},
   "outputs": [],
   "source": [
    "# Check your Raster function templates\n",
    "md_imagery = ImageryLayer(service_url, gis=gis)\n",
    "\n",
    "for fn in md_imagery.properties.rasterFunctionInfos:\n",
    "    print(fn['name'])"
   ]
  },
  {
   "cell_type": "code",
   "execution_count": null,
   "metadata": {},
   "outputs": [],
   "source": [
    "#Generate Temporal Profile graph\n",
    "from arcgis.geometry import *\n",
    "\n",
    "#Geometry\n",
    "point1 = Point({\"x\" : 25.773, \"y\" : -80.216, \"spatialReference\" : {\"wkid\" : 3857}})\n",
    "point2 = Point({\"x\" : 0, \"y\" : 0, \"spatialReference\" : {\"wkid\" : 3857}})\n",
    "\n",
    "#Trend Type\n",
    "trend_type =\"linear\" #linear\n",
    "\n",
    "#Variables\n",
    "myvars= [r\"/product/vertical_column_troposphere\"]\n",
    "\n",
    "#Temporal Profile\n",
    "md_imagery.temporal_profile(points = [point1,point2], time_field = \"StdTime\", variables = myvars,  trend_type=trend_type)"
   ]
  },
  {
   "cell_type": "code",
   "execution_count": null,
   "metadata": {},
   "outputs": [],
   "source": []
  },
  {
   "cell_type": "markdown",
   "metadata": {},
   "source": [
    "# Using Raster Functions on Imagery Layer"
   ]
  },
  {
   "cell_type": "markdown",
   "metadata": {},
   "source": [
    "Resource: https://developers.arcgis.com/python/api-reference/arcgis.raster.functions.html#clip"
   ]
  },
  {
   "cell_type": "markdown",
   "metadata": {},
   "source": [
    "## Set extent, clip and display ouput in map with basemap\n"
   ]
  },
  {
   "cell_type": "code",
   "execution_count": null,
   "metadata": {
    "scrolled": true
   },
   "outputs": [],
   "source": [
    "# Access the World contient item from the Living Atlas to use it as a boundary extent.\n",
    "# Title: World Continents | Type: Feature Service | Owner: esri_livingatlas\n",
    "\n",
    "gis_agol = GIS('home') #AGOL anonymous user\n",
    "item = gis_agol.content.get(\"57c1ade4fa7c4e2384e6a23f2b3bd254\")\n",
    "item"
   ]
  },
  {
   "cell_type": "code",
   "execution_count": null,
   "metadata": {},
   "outputs": [],
   "source": [
    "data = ImageryLayer(service_url, gis=gis)\n",
    "\n",
    "#Now get the extent for the area you would like to select. In this case, I selected Australia\n",
    "from arcgis.geocoding import geocode\n",
    "\n",
    "# Use geocoding to get the location of the study area in the spatial reference of the input data for the analysis.\n",
    "study_area_location = geocode(address='australia', out_sr=data.extent['spatialReference'])\n",
    "\n",
    "# Get the geographic extent of the study area.\n",
    "# This extent will be used for displaying the input data and output results.\n",
    "study_area_extent = study_area_location[0]['extent']\n",
    "study_area_extent"
   ]
  },
  {
   "cell_type": "markdown",
   "metadata": {},
   "source": [
    "## Clip to a spatial extent"
   ]
  },
  {
   "cell_type": "code",
   "execution_count": null,
   "metadata": {},
   "outputs": [],
   "source": [
    "from arcgis.raster.functions import clip #Import clip function\n",
    "\n",
    "# Select Australia:\n",
    "country_lyr = item.layers[0]\n",
    "study_area_query = country_lyr.query(\"CONTINENT='australia'\", return_geometry=True)\n",
    "\n",
    "# Get the geometry of the Australia feature.\n",
    "# We will use this geometry to extract the input data for the study area.\n",
    "study_area_geom= study_area_query.features[0].geometry\n",
    "study_area_geom['spatialReference'] = study_area_query.spatial_reference\n",
    "\n",
    "#study_area_geom\n",
    "\n",
    "# Set your extend\n",
    "data.extent = study_area_extent\n",
    "\n",
    "#draw output on map\n",
    "Clipped_study_area = clip(raster=data, geometry=study_area_geom)\n",
    "map = gis.map(\"Australia\")\n",
    "map.time_slider = True\n",
    "map.add_layer(Clipped_study_area)\n",
    "map"
   ]
  },
  {
   "cell_type": "code",
   "execution_count": null,
   "metadata": {},
   "outputs": [],
   "source": []
  },
  {
   "cell_type": "markdown",
   "metadata": {},
   "source": [
    "## Export subsetted file to a Tiff File"
   ]
  },
  {
   "cell_type": "code",
   "execution_count": null,
   "metadata": {},
   "outputs": [],
   "source": [
    "#Export Image\n",
    "#ADD FILTER FOR SINGLE RASTER\n",
    "imagery_layer.export_image(size=[1400, 600],\n",
    "                           export_format=\"tiff\",\n",
    "                           f=\"image\",\n",
    "                           save_folder=r\"/path/to/save_folder\",\n",
    "                           save_file=\"my_raster.tif\")"
   ]
  },
  {
   "cell_type": "markdown",
   "metadata": {},
   "source": [
    "# Using analytics module -  Subset Multidimensional Raster Function"
   ]
  },
  {
   "cell_type": "markdown",
   "metadata": {},
   "source": [
    "Resource: https://developers.arcgis.com/python/api-reference/arcgis.raster.analytics.html#subset-multidimensional-raster"
   ]
  },
  {
   "cell_type": "code",
   "execution_count": null,
   "metadata": {},
   "outputs": [],
   "source": [
    "# This creates a new multidimensional image service with variables cceiling and ccover for StdTime  dimensions\n",
    "# values - 2018-12-31T06:00:00 and  2018-12-31T11:00:00\n",
    "from arcgis.raster.analytics import subset_multidimensional_raster\n",
    "subset_output = subset_multidimensional_raster(input_multidimensional_raster=Clipped_study_area, \n",
    "                                               variables=[\"T2M\"],\n",
    "                                               dimension_definition='BY_VALUE',\n",
    "                                               dimension_values=[{\"dimension\":\"StdTime\", \"value\":\"2018-12-31T06:00:00\"},\n",
    "                                                                 {\"dimension\":\"StdTime\", \"value\":\"2018-12-31T11:00:00\"}],\n",
    "                                               output_name=\"time_subset_T2M_aus\", \n",
    "                                               gis=gis)"
   ]
  },
  {
   "cell_type": "code",
   "execution_count": null,
   "metadata": {},
   "outputs": [],
   "source": [
    "lyr = subset_output.layers[0]"
   ]
  },
  {
   "cell_type": "code",
   "execution_count": null,
   "metadata": {},
   "outputs": [],
   "source": [
    "lyr.extent = study_area_extent"
   ]
  },
  {
   "cell_type": "code",
   "execution_count": null,
   "metadata": {},
   "outputs": [],
   "source": [
    "lyr"
   ]
  },
  {
   "cell_type": "code",
   "execution_count": null,
   "metadata": {},
   "outputs": [],
   "source": [
    "savedimg = lyr2.export_image(f='image', export_format='tiff', save_folder='.', save_file='australia_subset.tif')"
   ]
  },
  {
   "cell_type": "code",
   "execution_count": null,
   "metadata": {},
   "outputs": [],
   "source": [
    "# Check your Raster function templates\n",
    "\n",
    "for fn in data.properties.rasterFunctionInfos:\n",
    "    print(fn['name'])"
   ]
  },
  {
   "cell_type": "code",
   "execution_count": null,
   "metadata": {},
   "outputs": [],
   "source": [
    "# Select the variable you would like from RFT for vizualization\n",
    "from arcgis.raster.functions import apply\n",
    "apply(data,\"all_sfc_sw_diff\")\n",
    "\n",
    "#apply(data,\"Clear-Sky Surface Short Wave Diffuse Flux\")"
   ]
  },
  {
   "cell_type": "code",
   "execution_count": null,
   "metadata": {},
   "outputs": [],
   "source": [
    "#create histogram of area in service\n",
    "ida = {\n",
    "        \"spatialReference\": {\"wkid\": 4326},\n",
    "        \"xmax\": -81,\n",
    "        \"xmin\": -91,\n",
    "        \"ymax\": 30,\n",
    "        \"ymin\": 23\n",
    "      }\n",
    "\n",
    "#aoi_geometry = Geometry(aoi)\n",
    "\n",
    "comp_stats_hist_01 = data.compute_stats_and_histograms(geometry=ida,\n",
    "                                                          rendering_rule={\"rasterFunction\":None},\n",
    "                                                          time=\"1630211400000\")\n",
    "print(comp_stats_hist_01)\n"
   ]
  },
  {
   "cell_type": "code",
   "execution_count": null,
   "metadata": {},
   "outputs": [],
   "source": [
    "."
   ]
  }
 ],
 "metadata": {
  "esriNotebookRuntime": {
   "notebookRuntimeName": "ArcGIS Notebook Python 3 Standard",
   "notebookRuntimeVersion": "3.0"
  },
  "kernelspec": {
   "display_name": "gisenv",
   "language": "python",
   "name": "python3"
  },
  "language_info": {
   "codemirror_mode": {
    "name": "ipython",
    "version": 3
   },
   "file_extension": ".py",
   "mimetype": "text/x-python",
   "name": "python",
   "nbconvert_exporter": "python",
   "pygments_lexer": "ipython3",
   "version": "3.11.8"
  }
 },
 "nbformat": 4,
 "nbformat_minor": 2
}
